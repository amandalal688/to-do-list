{
 "cells": [
  {
   "cell_type": "code",
   "execution_count": 7,
   "id": "e344d9f2",
   "metadata": {},
   "outputs": [],
   "source": [
    "# Creating an empty list.\n",
    "tasks = []\n",
    "\n",
    "# Function to add a task to the list.\n",
    "def add_task(task):\n",
    "    tasks.append(task)\n",
    "    print(f\"Task 'task' added to the list. \")\n",
    "    \n",
    "# Function to view all tasks.\n",
    "def view_tasks():\n",
    "    if not tasks:\n",
    "        print(\"No Tasks in the list.\")\n",
    "    else:\n",
    "        print(\"To-Do-List: \")\n",
    "        for i, task in enumerate(tasks, start=1):\n",
    "            print(f\"{i}.{task}\")\n",
    "            \n",
    "# Function to remove a task by its index\n",
    "def remove_task(index):\n",
    "    if 1<= index <= len(tasks):\n",
    "        removed_task = tasks.pop(index - 1)\n",
    "        print(f\"Task '{removed_task}' removed from the to-do list.\")\n",
    "    else:\n",
    "        pint(\"Invalid task index. Please provide a valid index.\")"
   ]
  },
  {
   "cell_type": "code",
   "execution_count": null,
   "id": "04a7b13c",
   "metadata": {},
   "outputs": [
    {
     "name": "stdout",
     "output_type": "stream",
     "text": [
      "\n",
      " Options: \n",
      "1. Add a task\n",
      "2. View Tasks\n",
      "3. Remove a task\n",
      "4. Quit\n"
     ]
    }
   ],
   "source": [
    "#Main loop for the to-do list application.\n",
    "while True:\n",
    "    print(\"\\n Options: \")\n",
    "    print(\"1. Add a task\")\n",
    "    print(\"2. View Tasks\")\n",
    "    print(\"3. Remove a task\")\n",
    "    print(\"4. Quit\")\n",
    "    \n",
    "    choice = input(\"Enter your choice: \")\n",
    "    \n",
    "    if choice == \"1\":\n",
    "        task = input(\"Enter the tasks: \")\n",
    "        add_task(task)\n",
    "    elif choice == \"2\":\n",
    "        view_tasks()\n",
    "    elif choice == \"3\":\n",
    "        index = int(input(\"Enter the index of the task to remove: \"))\n",
    "        remove_task(index)\n",
    "    elif choice == \"4\":\n",
    "        print(\"Goodbuy!\")\n",
    "        break\n",
    "    else:\n",
    "        print(\"Invalid Choice! Please select a valid option.\")"
   ]
  },
  {
   "cell_type": "code",
   "execution_count": null,
   "id": "b8c1d1df",
   "metadata": {},
   "outputs": [],
   "source": []
  }
 ],
 "metadata": {
  "kernelspec": {
   "display_name": "Python 3 (ipykernel)",
   "language": "python",
   "name": "python3"
  },
  "language_info": {
   "codemirror_mode": {
    "name": "ipython",
    "version": 3
   },
   "file_extension": ".py",
   "mimetype": "text/x-python",
   "name": "python",
   "nbconvert_exporter": "python",
   "pygments_lexer": "ipython3",
   "version": "3.10.9"
  }
 },
 "nbformat": 4,
 "nbformat_minor": 5
}
